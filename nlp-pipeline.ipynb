{
 "cells": [
  {
   "cell_type": "code",
   "execution_count": 1,
   "id": "821f1f9b",
   "metadata": {
    "_cell_guid": "b1076dfc-b9ad-4769-8c92-a6c4dae69d19",
    "_uuid": "8f2839f25d086af736a60e9eeb907d3b93b6e0e5",
    "execution": {
     "iopub.execute_input": "2022-05-09T10:35:47.084969Z",
     "iopub.status.busy": "2022-05-09T10:35:47.084238Z",
     "iopub.status.idle": "2022-05-09T10:35:47.102763Z",
     "shell.execute_reply": "2022-05-09T10:35:47.101347Z"
    },
    "papermill": {
     "duration": 0.075431,
     "end_time": "2022-05-09T10:35:47.106589",
     "exception": false,
     "start_time": "2022-05-09T10:35:47.031158",
     "status": "completed"
    },
    "tags": []
   },
   "outputs": [
    {
     "name": "stdout",
     "output_type": "stream",
     "text": [
      "/kaggle/input/quora-insincere-questions-classification/sample_submission.csv\n",
      "/kaggle/input/quora-insincere-questions-classification/embeddings.zip\n",
      "/kaggle/input/quora-insincere-questions-classification/train.csv\n",
      "/kaggle/input/quora-insincere-questions-classification/test.csv\n"
     ]
    }
   ],
   "source": [
    "# This Python 3 environment comes with many helpful analytics libraries installed\n",
    "# It is defined by the kaggle/python Docker image: https://github.com/kaggle/docker-python\n",
    "# For example, here's several helpful packages to load\n",
    "\n",
    "import numpy as np # linear algebra\n",
    "import pandas as pd # data processing, CSV file I/O (e.g. pd.read_csv)\n",
    "\n",
    "# Input data files are available in the read-only \"../input/\" directory\n",
    "# For example, running this (by clicking run or pressing Shift+Enter) will list all files under the input directory\n",
    "\n",
    "import os\n",
    "for dirname, _, filenames in os.walk('/kaggle/input'):\n",
    "    for filename in filenames:\n",
    "        print(os.path.join(dirname, filename))\n",
    "\n",
    "# You can write up to 20GB to the current directory (/kaggle/working/) that gets preserved as output when you create a version using \"Save & Run All\" \n",
    "# You can also write temporary files to /kaggle/temp/, but they won't be saved outside of the current session"
   ]
  },
  {
   "cell_type": "markdown",
   "id": "c05a5c33",
   "metadata": {
    "papermill": {
     "duration": 0.047401,
     "end_time": "2022-05-09T10:35:47.204800",
     "exception": false,
     "start_time": "2022-05-09T10:35:47.157399",
     "status": "completed"
    },
    "tags": []
   },
   "source": [
    "# Adding all imports we need"
   ]
  },
  {
   "cell_type": "code",
   "execution_count": 2,
   "id": "0016a71d",
   "metadata": {
    "execution": {
     "iopub.execute_input": "2022-05-09T10:35:47.304867Z",
     "iopub.status.busy": "2022-05-09T10:35:47.304345Z",
     "iopub.status.idle": "2022-05-09T10:35:49.684514Z",
     "shell.execute_reply": "2022-05-09T10:35:49.683690Z"
    },
    "papermill": {
     "duration": 2.432387,
     "end_time": "2022-05-09T10:35:49.686926",
     "exception": false,
     "start_time": "2022-05-09T10:35:47.254539",
     "status": "completed"
    },
    "tags": []
   },
   "outputs": [],
   "source": [
    "import torch\n",
    "from sklearn.model_selection import train_test_split\n",
    "import re\n",
    "\n",
    "\n",
    "import matplotlib.pyplot as plt\n",
    "%matplotlib inline\n",
    "\n",
    "import torch\n",
    "import torch.nn as nn\n",
    "\n",
    "import itertools\n",
    "from sklearn.metrics import confusion_matrix"
   ]
  },
  {
   "cell_type": "markdown",
   "id": "d9c18ba0",
   "metadata": {
    "papermill": {
     "duration": 0.047924,
     "end_time": "2022-05-09T10:35:49.784356",
     "exception": false,
     "start_time": "2022-05-09T10:35:49.736432",
     "status": "completed"
    },
    "tags": []
   },
   "source": [
    "# Reading all data and getting ready to work on them "
   ]
  },
  {
   "cell_type": "code",
   "execution_count": 3,
   "id": "b4cd1c84",
   "metadata": {
    "execution": {
     "iopub.execute_input": "2022-05-09T10:35:49.883335Z",
     "iopub.status.busy": "2022-05-09T10:35:49.882594Z",
     "iopub.status.idle": "2022-05-09T10:35:55.596722Z",
     "shell.execute_reply": "2022-05-09T10:35:55.595765Z"
    },
    "papermill": {
     "duration": 5.766606,
     "end_time": "2022-05-09T10:35:55.599122",
     "exception": false,
     "start_time": "2022-05-09T10:35:49.832516",
     "status": "completed"
    },
    "tags": []
   },
   "outputs": [],
   "source": [
    "# Read train and test data\n",
    "train = pd.read_csv('../input/quora-insincere-questions-classification/train.csv')\n",
    "test = pd.read_csv('../input/quora-insincere-questions-classification/test.csv')\n"
   ]
  },
  {
   "cell_type": "markdown",
   "id": "7c396972",
   "metadata": {
    "papermill": {
     "duration": 0.048176,
     "end_time": "2022-05-09T10:35:55.696504",
     "exception": false,
     "start_time": "2022-05-09T10:35:55.648328",
     "status": "completed"
    },
    "tags": []
   },
   "source": [
    "**Split train data into train and validation sets**"
   ]
  },
  {
   "cell_type": "code",
   "execution_count": 4,
   "id": "67b5aae0",
   "metadata": {
    "execution": {
     "iopub.execute_input": "2022-05-09T10:35:55.796611Z",
     "iopub.status.busy": "2022-05-09T10:35:55.796313Z",
     "iopub.status.idle": "2022-05-09T10:35:56.507241Z",
     "shell.execute_reply": "2022-05-09T10:35:56.506358Z"
    },
    "papermill": {
     "duration": 0.764839,
     "end_time": "2022-05-09T10:35:56.509798",
     "exception": false,
     "start_time": "2022-05-09T10:35:55.744959",
     "status": "completed"
    },
    "tags": []
   },
   "outputs": [],
   "source": [
    "train_data, val_data = train_test_split(train, test_size=0.2, random_state=42)\n",
    "\n",
    "train_sentences, train_targets = train_data['question_text'], train_data['target']\n",
    "val_sentences, val_targets = val_data['question_text'], val_data['target']"
   ]
  },
  {
   "cell_type": "code",
   "execution_count": 5,
   "id": "7bb6a1d1",
   "metadata": {
    "execution": {
     "iopub.execute_input": "2022-05-09T10:35:56.606140Z",
     "iopub.status.busy": "2022-05-09T10:35:56.605819Z",
     "iopub.status.idle": "2022-05-09T10:35:56.623586Z",
     "shell.execute_reply": "2022-05-09T10:35:56.622866Z"
    },
    "papermill": {
     "duration": 0.068387,
     "end_time": "2022-05-09T10:35:56.625530",
     "exception": false,
     "start_time": "2022-05-09T10:35:56.557143",
     "status": "completed"
    },
    "tags": []
   },
   "outputs": [
    {
     "data": {
      "text/html": [
       "<div>\n",
       "<style scoped>\n",
       "    .dataframe tbody tr th:only-of-type {\n",
       "        vertical-align: middle;\n",
       "    }\n",
       "\n",
       "    .dataframe tbody tr th {\n",
       "        vertical-align: top;\n",
       "    }\n",
       "\n",
       "    .dataframe thead th {\n",
       "        text-align: right;\n",
       "    }\n",
       "</style>\n",
       "<table border=\"1\" class=\"dataframe\">\n",
       "  <thead>\n",
       "    <tr style=\"text-align: right;\">\n",
       "      <th></th>\n",
       "      <th>qid</th>\n",
       "      <th>question_text</th>\n",
       "      <th>target</th>\n",
       "    </tr>\n",
       "  </thead>\n",
       "  <tbody>\n",
       "    <tr>\n",
       "      <th>298773</th>\n",
       "      <td>3a820a95342d28ad402f</td>\n",
       "      <td>How is strategic positioning is different from...</td>\n",
       "      <td>0</td>\n",
       "    </tr>\n",
       "    <tr>\n",
       "      <th>815475</th>\n",
       "      <td>9fca299caa0cf8f12eac</td>\n",
       "      <td>What is the best way for promote Facebook mark...</td>\n",
       "      <td>0</td>\n",
       "    </tr>\n",
       "    <tr>\n",
       "      <th>1133453</th>\n",
       "      <td>de23f10ad011a6fb13c7</td>\n",
       "      <td>How much energized proton radiation does the I...</td>\n",
       "      <td>0</td>\n",
       "    </tr>\n",
       "    <tr>\n",
       "      <th>1076426</th>\n",
       "      <td>d2eef16340896e963a63</td>\n",
       "      <td>Would any Indian men want to marry a women tha...</td>\n",
       "      <td>0</td>\n",
       "    </tr>\n",
       "    <tr>\n",
       "      <th>203792</th>\n",
       "      <td>27d584db9bd46b6ab44e</td>\n",
       "      <td>Which is the best business for startups in Ind...</td>\n",
       "      <td>0</td>\n",
       "    </tr>\n",
       "  </tbody>\n",
       "</table>\n",
       "</div>"
      ],
      "text/plain": [
       "                          qid  \\\n",
       "298773   3a820a95342d28ad402f   \n",
       "815475   9fca299caa0cf8f12eac   \n",
       "1133453  de23f10ad011a6fb13c7   \n",
       "1076426  d2eef16340896e963a63   \n",
       "203792   27d584db9bd46b6ab44e   \n",
       "\n",
       "                                             question_text  target  \n",
       "298773   How is strategic positioning is different from...       0  \n",
       "815475   What is the best way for promote Facebook mark...       0  \n",
       "1133453  How much energized proton radiation does the I...       0  \n",
       "1076426  Would any Indian men want to marry a women tha...       0  \n",
       "203792   Which is the best business for startups in Ind...       0  "
      ]
     },
     "execution_count": 5,
     "metadata": {},
     "output_type": "execute_result"
    }
   ],
   "source": [
    "train_data.head()"
   ]
  },
  {
   "cell_type": "code",
   "execution_count": 6,
   "id": "fd349163",
   "metadata": {
    "execution": {
     "iopub.execute_input": "2022-05-09T10:35:56.723969Z",
     "iopub.status.busy": "2022-05-09T10:35:56.723686Z",
     "iopub.status.idle": "2022-05-09T10:35:56.741042Z",
     "shell.execute_reply": "2022-05-09T10:35:56.740429Z"
    },
    "papermill": {
     "duration": 0.069333,
     "end_time": "2022-05-09T10:35:56.743099",
     "exception": false,
     "start_time": "2022-05-09T10:35:56.673766",
     "status": "completed"
    },
    "tags": []
   },
   "outputs": [
    {
     "data": {
      "text/plain": [
       "(0    979943\n",
       " 1     64954\n",
       " Name: target, dtype: int64,\n",
       " 0    245369\n",
       " 1     15856\n",
       " Name: target, dtype: int64)"
      ]
     },
     "execution_count": 6,
     "metadata": {},
     "output_type": "execute_result"
    }
   ],
   "source": [
    "# Lets see distribution of sentensec in both train and validation sets\n",
    "train_targets.value_counts(), val_targets.value_counts()"
   ]
  },
  {
   "cell_type": "markdown",
   "id": "137e6af1",
   "metadata": {
    "papermill": {
     "duration": 0.048166,
     "end_time": "2022-05-09T10:35:56.841192",
     "exception": false,
     "start_time": "2022-05-09T10:35:56.793026",
     "status": "completed"
    },
    "tags": []
   },
   "source": [
    "**This part of code is for prepoccess given data as much as we can**"
   ]
  },
  {
   "cell_type": "code",
   "execution_count": 7,
   "id": "871d54be",
   "metadata": {
    "execution": {
     "iopub.execute_input": "2022-05-09T10:35:56.939785Z",
     "iopub.status.busy": "2022-05-09T10:35:56.939507Z",
     "iopub.status.idle": "2022-05-09T10:35:56.980375Z",
     "shell.execute_reply": "2022-05-09T10:35:56.979741Z"
    },
    "papermill": {
     "duration": 0.093166,
     "end_time": "2022-05-09T10:35:56.982633",
     "exception": false,
     "start_time": "2022-05-09T10:35:56.889467",
     "status": "completed"
    },
    "tags": []
   },
   "outputs": [],
   "source": [
    "# PREPROCCESING\n",
    "\n",
    "contractions={\"I'm\": 'I am',\n",
    " \"I'm'a\": 'I am about to',\n",
    " \"I'm'o\": 'I am going to',\n",
    " \"I've\": 'I have',\n",
    " \"I'll\": 'I will',\n",
    " \"I'll've\": 'I will have',\n",
    " \"I'd\": 'I would',\n",
    " \"I'd've\": 'I would have',\n",
    " 'Whatcha': 'What are you',\n",
    " \"amn't\": 'am not',\n",
    " \"ain't\": 'are not',\n",
    " \"aren't\": 'are not',\n",
    " \"'cause\": 'because',\n",
    " \"can't\": 'can not',\n",
    " \"can't've\": 'can not have',\n",
    " \"could've\": 'could have',\n",
    " \"couldn't\": 'could not',\n",
    " \"couldn't've\": 'could not have',\n",
    " \"daren't\": 'dare not',\n",
    " \"daresn't\": 'dare not',\n",
    " \"dasn't\": 'dare not',\n",
    " \"didn't\": 'did not',\n",
    " 'didn’t': 'did not',\n",
    " \"don't\": 'do not',\n",
    " 'don’t': 'do not',\n",
    " \"doesn't\": 'does not',\n",
    " \"e'er\": 'ever',\n",
    " \"everyone's\": 'everyone is',\n",
    " 'finna': 'fixing to',\n",
    " 'gimme': 'give me',\n",
    " \"gon't\": 'go not',\n",
    " 'gonna': 'going to',\n",
    " 'gotta': 'got to',\n",
    " \"hadn't\": 'had not',\n",
    " \"hadn't've\": 'had not have',\n",
    " \"hasn't\": 'has not',\n",
    " \"haven't\": 'have not',\n",
    " \"he've\": 'he have',\n",
    " \"he's\": 'he is',\n",
    " \"he'll\": 'he will',\n",
    " \"he'll've\": 'he will have',\n",
    " \"he'd\": 'he would',\n",
    " \"he'd've\": 'he would have',\n",
    " \"here's\": 'here is',\n",
    " \"how're\": 'how are',\n",
    " \"how'd\": 'how did',\n",
    " \"how'd'y\": 'how do you',\n",
    " \"how's\": 'how is',\n",
    " \"how'll\": 'how will',\n",
    " \"isn't\": 'is not',\n",
    " \"it's\": 'it is',\n",
    " \"'tis\": 'it is',\n",
    " \"'twas\": 'it was',\n",
    " \"it'll\": 'it will',\n",
    " \"it'll've\": 'it will have',\n",
    " \"it'd\": 'it would',\n",
    " \"it'd've\": 'it would have',\n",
    " 'kinda': 'kind of',\n",
    " \"let's\": 'let us',\n",
    " 'luv': 'love',\n",
    " \"ma'am\": 'madam',\n",
    " \"may've\": 'may have',\n",
    " \"mayn't\": 'may not',\n",
    " \"might've\": 'might have',\n",
    " \"mightn't\": 'might not',\n",
    " \"mightn't've\": 'might not have',\n",
    " \"must've\": 'must have',\n",
    " \"mustn't\": 'must not',\n",
    " \"mustn't've\": 'must not have',\n",
    " \"needn't\": 'need not',\n",
    " \"needn't've\": 'need not have',\n",
    " \"ne'er\": 'never',\n",
    " \"o'\": 'of',\n",
    " \"o'clock\": 'of the clock',\n",
    " \"ol'\": 'old',\n",
    " \"oughtn't\": 'ought not',\n",
    " \"oughtn't've\": 'ought not have',\n",
    " \"o'er\": 'over',\n",
    " \"shan't\": 'shall not',\n",
    " \"sha'n't\": 'shall not',\n",
    " \"shalln't\": 'shall not',\n",
    " \"shan't've\": 'shall not have',\n",
    " \"she's\": 'she is',\n",
    " \"she'll\": 'she will',\n",
    " \"she'd\": 'she would',\n",
    " \"she'd've\": 'she would have',\n",
    " \"should've\": 'should have',\n",
    " \"shouldn't\": 'should not',\n",
    " \"shouldn't've\": 'should not have',\n",
    " \"so've\": 'so have',\n",
    " \"so's\": 'so is',\n",
    " \"somebody's\": 'somebody is',\n",
    " \"someone's\": 'someone is',\n",
    " \"something's\": 'something is',\n",
    " 'sux': 'sucks',\n",
    " \"that're\": 'that are',\n",
    " \"that's\": 'that is',\n",
    " \"that'll\": 'that will',\n",
    " \"that'd\": 'that would',\n",
    " \"that'd've\": 'that would have',\n",
    " 'em': 'them',\n",
    " \"there're\": 'there are',\n",
    " \"there's\": 'there is',\n",
    " \"there'll\": 'there will',\n",
    " \"there'd\": 'there would',\n",
    " \"there'd've\": 'there would have',\n",
    " \"these're\": 'these are',\n",
    " \"they're\": 'they are',\n",
    " \"they've\": 'they have',\n",
    " \"they'll\": 'they will',\n",
    " \"they'll've\": 'they will have',\n",
    " \"they'd\": 'they would',\n",
    " \"they'd've\": 'they would have',\n",
    " \"this's\": 'this is',\n",
    " \"those're\": 'those are',\n",
    " \"to've\": 'to have',\n",
    " 'wanna': 'want to',\n",
    " \"wasn't\": 'was not',\n",
    " \"we're\": 'we are',\n",
    " \"we've\": 'we have',\n",
    " \"we'll\": 'we will',\n",
    " \"we'll've\": 'we will have',\n",
    " \"we'd\": 'we would',\n",
    " \"we'd've\": 'we would have',\n",
    " \"weren't\": 'were not',\n",
    " \"what're\": 'what are',\n",
    " \"what'd\": 'what did',\n",
    " \"what've\": 'what have',\n",
    " \"what's\": 'what is',\n",
    " \"what'll\": 'what will',\n",
    " \"what'll've\": 'what will have',\n",
    " \"when've\": 'when have',\n",
    " \"when's\": 'when is',\n",
    " \"where're\": 'where are',\n",
    " \"where'd\": 'where did',\n",
    " \"where've\": 'where have',\n",
    " \"where's\": 'where is',\n",
    " \"which's\": 'which is',\n",
    " \"who're\": 'who are',\n",
    " \"who've\": 'who have',\n",
    " \"who's\": 'who is',\n",
    " \"who'll\": 'who will',\n",
    " \"who'll've\": 'who will have',\n",
    " \"who'd\": 'who would',\n",
    " \"who'd've\": 'who would have',\n",
    " \"why're\": 'why are',\n",
    " \"why'd\": 'why did',\n",
    " \"why've\": 'why have',\n",
    " \"why's\": 'why is',\n",
    " \"will've\": 'will have',\n",
    " \"won't\": 'will not',\n",
    " \"won't've\": 'will not have',\n",
    " \"would've\": 'would have',\n",
    " \"wouldn't\": 'would not',\n",
    " \"wouldn't've\": 'would not have',\n",
    " \"y'all\": 'you all',\n",
    " \"y'all're\": 'you all are',\n",
    " \"y'all've\": 'you all have',\n",
    " \"y'all'd\": 'you all would',\n",
    " \"y'all'd've\": 'you all would have',\n",
    " \"you're\": 'you are',\n",
    " \"you've\": 'you have',\n",
    " \"you'll've\": 'you shall have',\n",
    " \"you'll\": 'you will',\n",
    " \"you'd\": 'you would',\n",
    " \"you'd've\": 'you would have',\n",
    " 'jan.': 'january',\n",
    " 'feb.': 'february',\n",
    " 'mar.': 'march',\n",
    " 'apr.': 'april',\n",
    " 'jun.': 'june',\n",
    " 'jul.': 'july',\n",
    " 'aug.': 'august',\n",
    " 'sep.': 'september',\n",
    " 'oct.': 'october',\n",
    " 'nov.': 'november',\n",
    " 'dec.': 'december',\n",
    " 'I’m': 'I am',\n",
    " 'I’m’a': 'I am about to',\n",
    " 'I’m’o': 'I am going to',\n",
    " 'I’ve': 'I have',\n",
    " 'I’ll': 'I will',\n",
    " 'I’ll’ve': 'I will have',\n",
    " 'I’d': 'I would',\n",
    " 'I’d’ve': 'I would have',\n",
    " 'amn’t': 'am not',\n",
    " 'ain’t': 'are not',\n",
    " 'aren’t': 'are not',\n",
    " '’cause': 'because',\n",
    " 'can’t': 'can not',\n",
    " 'can’t’ve': 'can not have',\n",
    " 'could’ve': 'could have',\n",
    " 'couldn’t': 'could not',\n",
    " 'couldn’t’ve': 'could not have',\n",
    " 'daren’t': 'dare not',\n",
    " 'daresn’t': 'dare not',\n",
    " 'dasn’t': 'dare not',\n",
    " 'doesn’t': 'does not',\n",
    " 'e’er': 'ever',\n",
    " 'everyone’s': 'everyone is',\n",
    " 'gon’t': 'go not',\n",
    " 'hadn’t': 'had not',\n",
    " 'hadn’t’ve': 'had not have',\n",
    " 'hasn’t': 'has not',\n",
    " 'haven’t': 'have not',\n",
    " 'he’ve': 'he have',\n",
    " 'he’s': 'he is',\n",
    " 'he’ll': 'he will',\n",
    " 'he’ll’ve': 'he will have',\n",
    " 'he’d': 'he would',\n",
    " 'he’d’ve': 'he would have',\n",
    " 'here’s': 'here is',\n",
    " 'how’re': 'how are',\n",
    " 'how’d': 'how did',\n",
    " 'how’d’y': 'how do you',\n",
    " 'how’s': 'how is',\n",
    " 'how’ll': 'how will',\n",
    " 'isn’t': 'is not',\n",
    " 'it’s': 'it is',\n",
    " '’tis': 'it is',\n",
    " '’twas': 'it was',\n",
    " 'it’ll': 'it will',\n",
    " 'it’ll’ve': 'it will have',\n",
    " 'it’d': 'it would',\n",
    " 'it’d’ve': 'it would have',\n",
    " 'let’s': 'let us',\n",
    " 'ma’am': 'madam',\n",
    " 'may’ve': 'may have',\n",
    " 'mayn’t': 'may not',\n",
    " 'might’ve': 'might have',\n",
    " 'mightn’t': 'might not',\n",
    " 'mightn’t’ve': 'might not have',\n",
    " 'must’ve': 'must have',\n",
    " 'mustn’t': 'must not',\n",
    " 'mustn’t’ve': 'must not have',\n",
    " 'needn’t': 'need not',\n",
    " 'needn’t’ve': 'need not have',\n",
    " 'ne’er': 'never',\n",
    " 'o’': 'of',\n",
    " 'o’clock': 'of the clock',\n",
    " 'ol’': 'old',\n",
    " 'oughtn’t': 'ought not',\n",
    " 'oughtn’t’ve': 'ought not have',\n",
    " 'o’er': 'over',\n",
    " 'shan’t': 'shall not',\n",
    " 'sha’n’t': 'shall not',\n",
    " 'shalln’t': 'shall not',\n",
    " 'shan’t’ve': 'shall not have',\n",
    " 'she’s': 'she is',\n",
    " 'she’ll': 'she will',\n",
    " 'she’d': 'she would',\n",
    " 'she’d’ve': 'she would have',\n",
    " 'should’ve': 'should have',\n",
    " 'shouldn’t': 'should not',\n",
    " 'shouldn’t’ve': 'should not have',\n",
    " 'so’ve': 'so have',\n",
    " 'so’s': 'so is',\n",
    " 'somebody’s': 'somebody is',\n",
    " 'someone’s': 'someone is',\n",
    " 'something’s': 'something is',\n",
    " 'that’re': 'that are',\n",
    " 'that’s': 'that is',\n",
    " 'that’ll': 'that will',\n",
    " 'that’d': 'that would',\n",
    " 'that’d’ve': 'that would have',\n",
    " 'there’re': 'there are',\n",
    " 'there’s': 'there is',\n",
    " 'there’ll': 'there will',\n",
    " 'there’d': 'there would',\n",
    " 'there’d’ve': 'there would have',\n",
    " 'these’re': 'these are',\n",
    " 'they’re': 'they are',\n",
    " 'they’ve': 'they have',\n",
    " 'they’ll': 'they will',\n",
    " 'they’ll’ve': 'they will have',\n",
    " 'they’d': 'they would',\n",
    " 'they’d’ve': 'they would have',\n",
    " 'this’s': 'this is',\n",
    " 'those’re': 'those are',\n",
    " 'to’ve': 'to have',\n",
    " 'wasn’t': 'was not',\n",
    " 'we’re': 'we are',\n",
    " 'we’ve': 'we have',\n",
    " 'we’ll': 'we will',\n",
    " 'we’ll’ve': 'we will have',\n",
    " 'we’d': 'we would',\n",
    " 'we’d’ve': 'we would have',\n",
    " 'weren’t': 'were not',\n",
    " 'what’re': 'what are',\n",
    " 'what’d': 'what did',\n",
    " 'what’ve': 'what have',\n",
    " 'what’s': 'what is',\n",
    " 'what’ll': 'what will',\n",
    " 'what’ll’ve': 'what will have',\n",
    " 'when’ve': 'when have',\n",
    " 'when’s': 'when is',\n",
    " 'where’re': 'where are',\n",
    " 'where’d': 'where did',\n",
    " 'where’ve': 'where have',\n",
    " 'where’s': 'where is',\n",
    " 'which’s': 'which is',\n",
    " 'who’re': 'who are',\n",
    " 'who’ve': 'who have',\n",
    " 'who’s': 'who is',\n",
    " 'who’ll': 'who will',\n",
    " 'who’ll’ve': 'who will have',\n",
    " 'who’d': 'who would',\n",
    " 'who’d’ve': 'who would have',\n",
    " 'why’re': 'why are',\n",
    " 'why’d': 'why did',\n",
    " 'why’ve': 'why have',\n",
    " 'why’s': 'why is',\n",
    " 'will’ve': 'will have',\n",
    " 'won’t': 'will not',\n",
    " 'won’t’ve': 'will not have',\n",
    " 'would’ve': 'would have',\n",
    " 'wouldn’t': 'would not',\n",
    " 'wouldn’t’ve': 'would not have',\n",
    " 'y’all': 'you all',\n",
    " 'y’all’re': 'you all are',\n",
    " 'y’all’ve': 'you all have',\n",
    " 'y’all’d': 'you all would',\n",
    " 'y’all’d’ve': 'you all would have',\n",
    " 'you’re': 'you are',\n",
    " 'you’ve': 'you have',\n",
    " 'you’ll’ve': 'you shall have',\n",
    " 'you’ll': 'you will',\n",
    " 'you’d': 'you would',\n",
    " 'you’d’ve': 'you would have'}"
   ]
  },
  {
   "cell_type": "code",
   "execution_count": 8,
   "id": "e6d8a922",
   "metadata": {
    "execution": {
     "iopub.execute_input": "2022-05-09T10:35:57.083161Z",
     "iopub.status.busy": "2022-05-09T10:35:57.082600Z",
     "iopub.status.idle": "2022-05-09T10:35:57.087397Z",
     "shell.execute_reply": "2022-05-09T10:35:57.086833Z"
    },
    "papermill": {
     "duration": 0.057971,
     "end_time": "2022-05-09T10:35:57.089388",
     "exception": false,
     "start_time": "2022-05-09T10:35:57.031417",
     "status": "completed"
    },
    "tags": []
   },
   "outputs": [],
   "source": [
    "def contraction_fix(word):\n",
    "    try:\n",
    "        a=contractions[word]\n",
    "    except KeyError:\n",
    "        a=word\n",
    "    return a"
   ]
  },
  {
   "cell_type": "code",
   "execution_count": 9,
   "id": "af0e9f44",
   "metadata": {
    "execution": {
     "iopub.execute_input": "2022-05-09T10:35:57.188432Z",
     "iopub.status.busy": "2022-05-09T10:35:57.187833Z",
     "iopub.status.idle": "2022-05-09T10:35:57.195038Z",
     "shell.execute_reply": "2022-05-09T10:35:57.194254Z"
    },
    "papermill": {
     "duration": 0.059286,
     "end_time": "2022-05-09T10:35:57.197223",
     "exception": false,
     "start_time": "2022-05-09T10:35:57.137937",
     "status": "completed"
    },
    "tags": []
   },
   "outputs": [],
   "source": [
    "#This method fixes contractions and removes digits\n",
    "def preprocess(sentences):\n",
    "    processed=[] \n",
    "    for text in sentences:\n",
    "        text=\" \".join([contraction_fix(w) for w in text.split()])\n",
    "        text=re.sub(r'[^a-z0-9A-Z]',\" \",text) \n",
    "        text=re.sub(r'[0-9]{1}',\"#\",text) \n",
    "        text=re.sub(r'[0-9]{2}','##',text)  \n",
    "        text=re.sub(r'[0-9]{3}','###',text)\n",
    "        text=re.sub(r'[0-9]{4}','####',text)\n",
    "        text=re.sub(r'[0-9]{5,}','#####',text)\n",
    "        processed.append(text)\n",
    "    return processed"
   ]
  },
  {
   "cell_type": "markdown",
   "id": "5c79f51d",
   "metadata": {
    "papermill": {
     "duration": 0.048093,
     "end_time": "2022-05-09T10:35:57.293663",
     "exception": false,
     "start_time": "2022-05-09T10:35:57.245570",
     "status": "completed"
    },
    "tags": []
   },
   "source": [
    "# Preprocess the sentences(remove digits, fix contractions and etc.)"
   ]
  },
  {
   "cell_type": "code",
   "execution_count": 10,
   "id": "150c4a69",
   "metadata": {
    "execution": {
     "iopub.execute_input": "2022-05-09T10:35:57.396806Z",
     "iopub.status.busy": "2022-05-09T10:35:57.395778Z",
     "iopub.status.idle": "2022-05-09T10:36:35.475705Z",
     "shell.execute_reply": "2022-05-09T10:36:35.474836Z"
    },
    "papermill": {
     "duration": 38.136137,
     "end_time": "2022-05-09T10:36:35.478153",
     "exception": false,
     "start_time": "2022-05-09T10:35:57.342016",
     "status": "completed"
    },
    "tags": []
   },
   "outputs": [],
   "source": [
    "train_sentences = preprocess(train_sentences)"
   ]
  },
  {
   "cell_type": "markdown",
   "id": "b0a4984f",
   "metadata": {
    "papermill": {
     "duration": 0.047965,
     "end_time": "2022-05-09T10:36:35.574589",
     "exception": false,
     "start_time": "2022-05-09T10:36:35.526624",
     "status": "completed"
    },
    "tags": []
   },
   "source": [
    "# Counting each words frequency and indexing them"
   ]
  },
  {
   "cell_type": "code",
   "execution_count": 11,
   "id": "8e7c9d20",
   "metadata": {
    "execution": {
     "iopub.execute_input": "2022-05-09T10:36:35.672810Z",
     "iopub.status.busy": "2022-05-09T10:36:35.672282Z",
     "iopub.status.idle": "2022-05-09T10:36:41.342154Z",
     "shell.execute_reply": "2022-05-09T10:36:41.341226Z"
    },
    "papermill": {
     "duration": 5.721764,
     "end_time": "2022-05-09T10:36:41.344586",
     "exception": false,
     "start_time": "2022-05-09T10:36:35.622822",
     "status": "completed"
    },
    "tags": []
   },
   "outputs": [],
   "source": [
    "#Building vocabulary (in lower case)\n",
    "\n",
    "def vocab_build(sentences):\n",
    "    words={}\n",
    "    for text in sentences:\n",
    "        for word in text.split():\n",
    "            word = word.lower()\n",
    "            try:\n",
    "                words[word]+=1\n",
    "            except KeyError:\n",
    "                words[word]=1\n",
    "    return words\n",
    "\n",
    "def get_word_index(vocab):\n",
    "    word_index=dict((w,i+1) for i,w in enumerate(vocab.keys()))\n",
    "    return word_index\n",
    "\n",
    "words = vocab_build(train_sentences)\n",
    "vocab = get_word_index(words)\n"
   ]
  },
  {
   "cell_type": "markdown",
   "id": "024cd541",
   "metadata": {
    "papermill": {
     "duration": 0.056189,
     "end_time": "2022-05-09T10:36:41.450163",
     "exception": false,
     "start_time": "2022-05-09T10:36:41.393974",
     "status": "completed"
    },
    "tags": []
   },
   "source": [
    "# Lets see diagram of sentence lengths"
   ]
  },
  {
   "cell_type": "code",
   "execution_count": 12,
   "id": "7eeb75d4",
   "metadata": {
    "execution": {
     "iopub.execute_input": "2022-05-09T10:36:41.555001Z",
     "iopub.status.busy": "2022-05-09T10:36:41.554433Z",
     "iopub.status.idle": "2022-05-09T10:36:41.559052Z",
     "shell.execute_reply": "2022-05-09T10:36:41.558219Z"
    },
    "papermill": {
     "duration": 0.057029,
     "end_time": "2022-05-09T10:36:41.561127",
     "exception": false,
     "start_time": "2022-05-09T10:36:41.504098",
     "status": "completed"
    },
    "tags": []
   },
   "outputs": [],
   "source": [
    "# Helper function to count words in sentence\n",
    "\n",
    "def word_count_in_sentence(sentence):\n",
    "    return len(sentence.split())\n"
   ]
  },
  {
   "cell_type": "code",
   "execution_count": 13,
   "id": "0e5622e0",
   "metadata": {
    "execution": {
     "iopub.execute_input": "2022-05-09T10:36:41.660706Z",
     "iopub.status.busy": "2022-05-09T10:36:41.660162Z",
     "iopub.status.idle": "2022-05-09T10:36:48.206522Z",
     "shell.execute_reply": "2022-05-09T10:36:48.205655Z"
    },
    "papermill": {
     "duration": 6.598131,
     "end_time": "2022-05-09T10:36:48.208654",
     "exception": false,
     "start_time": "2022-05-09T10:36:41.610523",
     "status": "completed"
    },
    "tags": []
   },
   "outputs": [
    {
     "data": {
      "text/plain": [
       "(array([2.20000e+01, 5.00000e+01, 4.40000e+03, 1.69500e+04, 3.31870e+04,\n",
       "        1.39025e+05, 9.55360e+04, 9.77040e+04, 9.25610e+04, 8.03530e+04,\n",
       "        1.28703e+05, 4.94950e+04, 4.14750e+04, 3.47810e+04, 2.96060e+04,\n",
       "        4.68040e+04, 1.87520e+04, 1.64430e+04, 1.43180e+04, 1.28140e+04,\n",
       "        2.15740e+04, 9.19500e+03, 7.73700e+03, 6.90000e+03, 5.80200e+03,\n",
       "        9.06400e+03, 3.61200e+03, 3.03800e+03, 2.72200e+03, 2.44200e+03,\n",
       "        4.39500e+03, 1.92700e+03, 1.87400e+03, 1.75400e+03, 1.66100e+03,\n",
       "        2.80500e+03, 1.03200e+03, 9.37000e+02, 8.10000e+02, 5.92000e+02,\n",
       "        9.64000e+02, 3.17000e+02, 2.54000e+02, 1.83000e+02, 9.80000e+01,\n",
       "        1.39000e+02, 3.80000e+01, 2.00000e+01, 7.00000e+00, 1.70000e+01]),\n",
       " array([ 0. ,  1.2,  2.4,  3.6,  4.8,  6. ,  7.2,  8.4,  9.6, 10.8, 12. ,\n",
       "        13.2, 14.4, 15.6, 16.8, 18. , 19.2, 20.4, 21.6, 22.8, 24. , 25.2,\n",
       "        26.4, 27.6, 28.8, 30. , 31.2, 32.4, 33.6, 34.8, 36. , 37.2, 38.4,\n",
       "        39.6, 40.8, 42. , 43.2, 44.4, 45.6, 46.8, 48. , 49.2, 50.4, 51.6,\n",
       "        52.8, 54. , 55.2, 56.4, 57.6, 58.8, 60. ]),\n",
       " <BarContainer object of 50 artists>)"
      ]
     },
     "execution_count": 13,
     "metadata": {},
     "output_type": "execute_result"
    },
    {
     "data": {
      "image/png": "[encoded data removed]",
      "text/plain": [
       "<Figure size 432x288 with 1 Axes>"
      ]
     },
     "metadata": {
      "needs_background": "light"
     },
     "output_type": "display_data"
    }
   ],
   "source": [
    "question_lens = [word_count_in_sentence(sentence) for sentence in train_sentences]\n",
    "\n",
    "plt.hist(question_lens, range=(0,60), bins=50)"
   ]
  },
  {
   "cell_type": "markdown",
   "id": "3974eccf",
   "metadata": {
    "papermill": {
     "duration": 0.049611,
     "end_time": "2022-05-09T10:36:48.308132",
     "exception": false,
     "start_time": "2022-05-09T10:36:48.258521",
     "status": "completed"
    },
    "tags": []
   },
   "source": [
    "# Based on the diagram we can take avarage lengths of sentences"
   ]
  },
  {
   "cell_type": "code",
   "execution_count": 14,
   "id": "d4b3d6e9",
   "metadata": {
    "execution": {
     "iopub.execute_input": "2022-05-09T10:36:48.409201Z",
     "iopub.status.busy": "2022-05-09T10:36:48.408936Z",
     "iopub.status.idle": "2022-05-09T10:36:48.413061Z",
     "shell.execute_reply": "2022-05-09T10:36:48.412222Z"
    },
    "papermill": {
     "duration": 0.057026,
     "end_time": "2022-05-09T10:36:48.414957",
     "exception": false,
     "start_time": "2022-05-09T10:36:48.357931",
     "status": "completed"
    },
    "tags": []
   },
   "outputs": [],
   "source": [
    "AVG_MIN_LENGTH = 5 \n",
    "AVG_MAX_LENGTH = 20 \n",
    "AVG_LENGTH = 13"
   ]
  },
  {
   "cell_type": "markdown",
   "id": "e4904d85",
   "metadata": {
    "papermill": {
     "duration": 0.049768,
     "end_time": "2022-05-09T10:36:48.514410",
     "exception": false,
     "start_time": "2022-05-09T10:36:48.464642",
     "status": "completed"
    },
    "tags": []
   },
   "source": [
    "# We can see distribution of 1s and 0s in the train set"
   ]
  },
  {
   "cell_type": "code",
   "execution_count": 15,
   "id": "5c3c2317",
   "metadata": {
    "execution": {
     "iopub.execute_input": "2022-05-09T10:36:48.616328Z",
     "iopub.status.busy": "2022-05-09T10:36:48.615790Z",
     "iopub.status.idle": "2022-05-09T10:36:48.748756Z",
     "shell.execute_reply": "2022-05-09T10:36:48.747783Z"
    },
    "papermill": {
     "duration": 0.187449,
     "end_time": "2022-05-09T10:36:48.751983",
     "exception": false,
     "start_time": "2022-05-09T10:36:48.564534",
     "status": "completed"
    },
    "tags": []
   },
   "outputs": [
    {
     "data": {
      "text/plain": [
       "<AxesSubplot:title={'center':'Target categories'}, ylabel='target'>"
      ]
     },
     "execution_count": 15,
     "metadata": {},
     "output_type": "execute_result"
    },
    {
     "data": {
      "image/png": "[encoded data removed]",
      "text/plain": [
       "<Figure size 432x288 with 1 Axes>"
      ]
     },
     "metadata": {},
     "output_type": "display_data"
    }
   ],
   "source": [
    "train_targets.value_counts().plot(title='Target categories',kind='pie')"
   ]
  },
  {
   "cell_type": "markdown",
   "id": "52c44f42",
   "metadata": {
    "papermill": {
     "duration": 0.052174,
     "end_time": "2022-05-09T10:36:48.896641",
     "exception": false,
     "start_time": "2022-05-09T10:36:48.844467",
     "status": "completed"
    },
    "tags": []
   },
   "source": [
    "**Could not use this code because it took too much space. Had to write in another way**"
   ]
  },
  {
   "cell_type": "code",
   "execution_count": 16,
   "id": "5486a039",
   "metadata": {
    "execution": {
     "iopub.execute_input": "2022-05-09T10:36:49.002222Z",
     "iopub.status.busy": "2022-05-09T10:36:49.001760Z",
     "iopub.status.idle": "2022-05-09T10:36:49.005820Z",
     "shell.execute_reply": "2022-05-09T10:36:49.005030Z"
    },
    "papermill": {
     "duration": 0.058912,
     "end_time": "2022-05-09T10:36:49.007684",
     "exception": false,
     "start_time": "2022-05-09T10:36:48.948772",
     "status": "completed"
    },
    "tags": []
   },
   "outputs": [],
   "source": [
    "# unzip the embeddings folder \n",
    "\n",
    "# !unzip ../input/quora-insincere-questions-classification/embeddings.zip\n",
    "\n",
    "# file_name=\"glove.840B.300d/glove.840B.300d.txt\"\n",
    "# word2vecs = {}\n",
    "# file = open(file_name, \"r\")\n",
    "# word2vec = file.read().split(' ')\n",
    "# word2vecs[word2vec[0]] = np.asarray(word2vec[1:], dtype='float32')"
   ]
  },
  {
   "cell_type": "markdown",
   "id": "731ec0ce",
   "metadata": {
    "papermill": {
     "duration": 0.051221,
     "end_time": "2022-05-09T10:36:49.110177",
     "exception": false,
     "start_time": "2022-05-09T10:36:49.058956",
     "status": "completed"
    },
    "tags": []
   },
   "source": [
    "**Another way is to unzip only when needed and not allocating all memory**\n",
    "*This takes few minutes*"
   ]
  },
  {
   "cell_type": "code",
   "execution_count": 17,
   "id": "808ba2b8",
   "metadata": {
    "execution": {
     "iopub.execute_input": "2022-05-09T10:36:49.213647Z",
     "iopub.status.busy": "2022-05-09T10:36:49.213368Z",
     "iopub.status.idle": "2022-05-09T10:41:53.703663Z",
     "shell.execute_reply": "2022-05-09T10:41:53.701883Z"
    },
    "papermill": {
     "duration": 304.547592,
     "end_time": "2022-05-09T10:41:53.708778",
     "exception": false,
     "start_time": "2022-05-09T10:36:49.161186",
     "status": "completed"
    },
    "tags": []
   },
   "outputs": [],
   "source": [
    "from zipfile import ZipFile \n",
    "\n",
    "word2vecs = {}\n",
    "file_name=\"glove.840B.300d/glove.840B.300d.txt\"\n",
    "with ZipFile('/kaggle/input/quora-insincere-questions-classification/embeddings.zip') as zip_file:\n",
    "    for embedding in zip_file.open(file_name, 'r'):\n",
    "        word2vec = embedding.decode().split(' ')\n",
    "        word2vecs[word2vec[0]] = np.asarray(word2vec[1:], dtype='float32')\n"
   ]
  },
  {
   "cell_type": "markdown",
   "id": "431822fa",
   "metadata": {
    "papermill": {
     "duration": 0.051079,
     "end_time": "2022-05-09T10:41:53.816503",
     "exception": false,
     "start_time": "2022-05-09T10:41:53.765424",
     "status": "completed"
    },
    "tags": []
   },
   "source": [
    "# Defining some constants for batch size and epochs"
   ]
  },
  {
   "cell_type": "code",
   "execution_count": 18,
   "id": "3ec9374d",
   "metadata": {
    "execution": {
     "iopub.execute_input": "2022-05-09T10:41:53.925010Z",
     "iopub.status.busy": "2022-05-09T10:41:53.924684Z",
     "iopub.status.idle": "2022-05-09T10:41:53.930035Z",
     "shell.execute_reply": "2022-05-09T10:41:53.929325Z"
    },
    "papermill": {
     "duration": 0.062298,
     "end_time": "2022-05-09T10:41:53.932044",
     "exception": false,
     "start_time": "2022-05-09T10:41:53.869746",
     "status": "completed"
    },
    "tags": []
   },
   "outputs": [],
   "source": [
    "BATCH_SIZE = 256\n",
    "BATCHES = (len(train_sentences)+BATCH_SIZE-1)//BATCH_SIZE\n",
    "EPOCHS = 2\n",
    "EMBD_SIZE = 300\n",
    "HIDDEN_SIZE = 30"
   ]
  },
  {
   "cell_type": "code",
   "execution_count": 19,
   "id": "ea285149",
   "metadata": {
    "execution": {
     "iopub.execute_input": "2022-05-09T10:41:54.036409Z",
     "iopub.status.busy": "2022-05-09T10:41:54.035953Z",
     "iopub.status.idle": "2022-05-09T10:41:54.041395Z",
     "shell.execute_reply": "2022-05-09T10:41:54.040768Z"
    },
    "papermill": {
     "duration": 0.060106,
     "end_time": "2022-05-09T10:41:54.043197",
     "exception": false,
     "start_time": "2022-05-09T10:41:53.983091",
     "status": "completed"
    },
    "tags": []
   },
   "outputs": [],
   "source": [
    "# Function to replace each word with its embedding vector\n",
    "\n",
    "def configure_word2vecs(sentences, word2vecs):\n",
    "    def configure_sentence(sentence, len=HIDDEN_SIZE):\n",
    "        return ([word2vecs.get(word.lower(), np.zeros(EMBD_SIZE)) for word in sentence.split()] + [np.zeros(EMBD_SIZE)]*len)[:len] \n",
    "    \n",
    "    return [configure_sentence(sentence) for sentence in sentences]"
   ]
  },
  {
   "cell_type": "markdown",
   "id": "589980dd",
   "metadata": {
    "papermill": {
     "duration": 0.050995,
     "end_time": "2022-05-09T10:41:54.145222",
     "exception": false,
     "start_time": "2022-05-09T10:41:54.094227",
     "status": "completed"
    },
    "tags": []
   },
   "source": [
    "# Main neural network code"
   ]
  },
  {
   "cell_type": "code",
   "execution_count": 20,
   "id": "01026996",
   "metadata": {
    "execution": {
     "iopub.execute_input": "2022-05-09T10:41:54.249313Z",
     "iopub.status.busy": "2022-05-09T10:41:54.248783Z",
     "iopub.status.idle": "2022-05-09T10:41:54.255071Z",
     "shell.execute_reply": "2022-05-09T10:41:54.254353Z"
    },
    "papermill": {
     "duration": 0.060907,
     "end_time": "2022-05-09T10:41:54.257260",
     "exception": false,
     "start_time": "2022-05-09T10:41:54.196353",
     "status": "completed"
    },
    "tags": []
   },
   "outputs": [],
   "source": [
    "class ClassifierModel(nn.Module):\n",
    "    def __init__(self, dropout=0.3):\n",
    "        super().__init__()\n",
    "                \n",
    "        self.emb = nn.LSTM(EMBD_SIZE, HIDDEN_SIZE, 1, batch_first=True)\n",
    "        self.lin = nn.Linear(HIDDEN_SIZE, 1)\n",
    "        \n",
    "        \n",
    "    def forward(self, src):\n",
    "        outputs, (hidden, cell) = self.emb(src)\n",
    "        return self.lin(hidden.reshape(-1, HIDDEN_SIZE))"
   ]
  },
  {
   "cell_type": "markdown",
   "id": "6510b645",
   "metadata": {
    "papermill": {
     "duration": 0.050901,
     "end_time": "2022-05-09T10:41:54.360044",
     "exception": false,
     "start_time": "2022-05-09T10:41:54.309143",
     "status": "completed"
    },
    "tags": []
   },
   "source": [
    "# Creating model, loss function and optimizer"
   ]
  },
  {
   "cell_type": "code",
   "execution_count": 21,
   "id": "a349fd31",
   "metadata": {
    "execution": {
     "iopub.execute_input": "2022-05-09T10:41:54.466656Z",
     "iopub.status.busy": "2022-05-09T10:41:54.466165Z",
     "iopub.status.idle": "2022-05-09T10:41:54.515455Z",
     "shell.execute_reply": "2022-05-09T10:41:54.514421Z"
    },
    "papermill": {
     "duration": 0.104526,
     "end_time": "2022-05-09T10:41:54.517653",
     "exception": false,
     "start_time": "2022-05-09T10:41:54.413127",
     "status": "completed"
    },
    "tags": []
   },
   "outputs": [],
   "source": [
    "model = ClassifierModel()\n",
    "\n",
    "calc_loss = nn.BCEWithLogitsLoss()\n",
    "\n",
    "# define optimizer - algorithm used for optimizing loss function.\n",
    "optimizer = torch.optim.Adam(model.parameters(), lr=0.001)"
   ]
  },
  {
   "cell_type": "markdown",
   "id": "f0487bc8",
   "metadata": {
    "papermill": {
     "duration": 0.050441,
     "end_time": "2022-05-09T10:41:54.619411",
     "exception": false,
     "start_time": "2022-05-09T10:41:54.568970",
     "status": "completed"
    },
    "tags": []
   },
   "source": [
    "# Confusion Matrix Code"
   ]
  },
  {
   "cell_type": "code",
   "execution_count": 22,
   "id": "aaee1c96",
   "metadata": {
    "execution": {
     "iopub.execute_input": "2022-05-09T10:41:54.723135Z",
     "iopub.status.busy": "2022-05-09T10:41:54.722551Z",
     "iopub.status.idle": "2022-05-09T10:41:54.731613Z",
     "shell.execute_reply": "2022-05-09T10:41:54.730972Z"
    },
    "papermill": {
     "duration": 0.063899,
     "end_time": "2022-05-09T10:41:54.733860",
     "exception": false,
     "start_time": "2022-05-09T10:41:54.669961",
     "status": "completed"
    },
    "tags": []
   },
   "outputs": [],
   "source": [
    "# might use confusion_matrix plot for better visualisation and seeing the progress of the model\n",
    "\n",
    "def plot_confusion_matrix(cm, classes,\n",
    "                          title='Confusion matrix',\n",
    "                          cmap=plt.cm.Blues):\n",
    "    \n",
    "    plt.imshow(cm, interpolation='nearest', cmap=cmap)\n",
    "    plt.title(title)\n",
    "    plt.colorbar()\n",
    "    tick_marks = np.arange(len(classes))\n",
    "    plt.xticks(tick_marks, classes, rotation=45)\n",
    "    plt.yticks(tick_marks, classes)\n",
    "\n",
    "    \n",
    "    print('Confusion matrix, without normalization')\n",
    "\n",
    "    thresh = cm.max() / 2.\n",
    "    for i, j in itertools.product(range(cm.shape[0]), range(cm.shape[1])):\n",
    "        plt.text(j, i, cm[i, j],\n",
    "                 horizontalalignment=\"center\",\n",
    "                 color=\"white\" if cm[i, j] > thresh else \"black\")\n",
    "\n",
    "    plt.tight_layout()\n",
    "    plt.ylabel('True label')\n",
    "    plt.xlabel('Predicted label')\n",
    "    "
   ]
  },
  {
   "cell_type": "markdown",
   "id": "3c1a6740",
   "metadata": {
    "papermill": {
     "duration": 0.051439,
     "end_time": "2022-05-09T10:41:54.836262",
     "exception": false,
     "start_time": "2022-05-09T10:41:54.784823",
     "status": "completed"
    },
    "tags": []
   },
   "source": [
    "# Evaluates accuracy"
   ]
  },
  {
   "cell_type": "code",
   "execution_count": 23,
   "id": "ecff2ccc",
   "metadata": {
    "execution": {
     "iopub.execute_input": "2022-05-09T10:41:54.941278Z",
     "iopub.status.busy": "2022-05-09T10:41:54.940793Z",
     "iopub.status.idle": "2022-05-09T10:41:54.948244Z",
     "shell.execute_reply": "2022-05-09T10:41:54.947458Z"
    },
    "papermill": {
     "duration": 0.06307,
     "end_time": "2022-05-09T10:41:54.950259",
     "exception": false,
     "start_time": "2022-05-09T10:41:54.887189",
     "status": "completed"
    },
    "tags": []
   },
   "outputs": [],
   "source": [
    "def calc_accuracy(y_pred, y_test, batch):\n",
    "    y_pred = torch.round(torch.sigmoid(y_pred))\n",
    "    correct = (y_pred == y_test).sum().float()\n",
    "    \n",
    "#  if we use this code it will plot confusion_matrixes, but it prints too many graphics...\n",
    "\n",
    "    if (batch+1) % 500 == 0:\n",
    "    \n",
    "        cnf_matrix = confusion_matrix(y_test.detach().numpy(), y_pred.detach().numpy())\n",
    "        plt.figure(figsize=(5, 5))\n",
    "        plot_confusion_matrix(cnf_matrix, \n",
    "                                classes=['Neg', 'Pos'],\n",
    "                                title='Confusion Matrix')\n",
    "\n",
    "        plt.show()\n",
    "    return torch.round(100*(correct/y_pred.shape[0]))"
   ]
  },
  {
   "cell_type": "markdown",
   "id": "45afebe2",
   "metadata": {
    "papermill": {
     "duration": 0.051637,
     "end_time": "2022-05-09T10:41:55.052512",
     "exception": false,
     "start_time": "2022-05-09T10:41:55.000875",
     "status": "completed"
    },
    "tags": []
   },
   "source": [
    "# Torch tensor according to the data"
   ]
  },
  {
   "cell_type": "code",
   "execution_count": 24,
   "id": "4e13f0aa",
   "metadata": {
    "execution": {
     "iopub.execute_input": "2022-05-09T10:41:55.156600Z",
     "iopub.status.busy": "2022-05-09T10:41:55.156166Z",
     "iopub.status.idle": "2022-05-09T10:41:55.161786Z",
     "shell.execute_reply": "2022-05-09T10:41:55.161184Z"
    },
    "papermill": {
     "duration": 0.060634,
     "end_time": "2022-05-09T10:41:55.164252",
     "exception": false,
     "start_time": "2022-05-09T10:41:55.103618",
     "status": "completed"
    },
    "tags": []
   },
   "outputs": [],
   "source": [
    "def get_batch(idx):\n",
    "    embd_vecs = configure_word2vecs(train_sentences[BATCH_SIZE*idx:BATCH_SIZE*(idx+1)], word2vecs)\n",
    "    target = np.asarray(train_targets[BATCH_SIZE*idx:BATCH_SIZE*(idx+1)], dtype='bool')\n",
    "    return torch.FloatTensor(embd_vecs), torch.FloatTensor(target)"
   ]
  },
  {
   "cell_type": "markdown",
   "id": "177bad44",
   "metadata": {
    "papermill": {
     "duration": 0.050602,
     "end_time": "2022-05-09T10:41:55.266487",
     "exception": false,
     "start_time": "2022-05-09T10:41:55.215885",
     "status": "completed"
    },
    "tags": []
   },
   "source": [
    "# Train the model and use validation sets"
   ]
  },
  {
   "cell_type": "code",
   "execution_count": 25,
   "id": "5ba63ea5",
   "metadata": {
    "execution": {
     "iopub.execute_input": "2022-05-09T10:41:55.371364Z",
     "iopub.status.busy": "2022-05-09T10:41:55.370931Z",
     "iopub.status.idle": "2022-05-09T10:41:59.159236Z",
     "shell.execute_reply": "2022-05-09T10:41:59.158537Z"
    },
    "papermill": {
     "duration": 3.843836,
     "end_time": "2022-05-09T10:41:59.161584",
     "exception": false,
     "start_time": "2022-05-09T10:41:55.317748",
     "status": "completed"
    },
    "tags": []
   },
   "outputs": [],
   "source": [
    "model.train()\n",
    "\n",
    "VALIDATION_BATCHES = 10\n",
    "\n",
    "#replace each word with its embedding vector\n",
    "val_word2vecs = configure_word2vecs(val_sentences[:VALIDATION_BATCHES*BATCH_SIZE], word2vecs)\n",
    "val_targs = np.asarray(val_targets[:VALIDATION_BATCHES*BATCH_SIZE], dtype='bool')\n",
    "\n",
    "#get tensors for validation data\n",
    "val_batch = torch.FloatTensor(val_word2vecs)\n",
    "val_target = torch.FloatTensor(val_targs)"
   ]
  },
  {
   "cell_type": "markdown",
   "id": "def76746",
   "metadata": {
    "papermill": {
     "duration": 0.051751,
     "end_time": "2022-05-09T10:41:59.265131",
     "exception": false,
     "start_time": "2022-05-09T10:41:59.213380",
     "status": "completed"
    },
    "tags": []
   },
   "source": [
    "# Method to train batches with updating epoch loss and epoch accuracy"
   ]
  },
  {
   "cell_type": "code",
   "execution_count": 26,
   "id": "8756ec8e",
   "metadata": {
    "execution": {
     "iopub.execute_input": "2022-05-09T10:41:59.369363Z",
     "iopub.status.busy": "2022-05-09T10:41:59.368819Z",
     "iopub.status.idle": "2022-05-09T10:41:59.377405Z",
     "shell.execute_reply": "2022-05-09T10:41:59.376788Z"
    },
    "papermill": {
     "duration": 0.063007,
     "end_time": "2022-05-09T10:41:59.379304",
     "exception": false,
     "start_time": "2022-05-09T10:41:59.316297",
     "status": "completed"
    },
    "tags": []
   },
   "outputs": [],
   "source": [
    "def train_batches(epoch):\n",
    "    epoch_loss, epoch_acc = 0, 0\n",
    "    \n",
    "    for batch in range(BATCHES):\n",
    "        X_batch, y_batch = get_batch(batch)\n",
    "        \n",
    "        # this needs to be runned before doing gradient step. PyTorch by default accumulates previous gradients from previous steps so we need to tell it to clear everything.\n",
    "        optimizer.zero_grad()\n",
    "\n",
    "        # forward pass\n",
    "        y_pred = model(X_batch)\n",
    "        \n",
    "        # loss computation\n",
    "        loss = calc_loss(y_pred, y_batch.unsqueeze(1))\n",
    "        \n",
    "        val_pred = model(val_batch)\n",
    "        acc = calc_accuracy(val_pred, val_target.unsqueeze(1),batch)\n",
    "\n",
    "        # running backpropagation algorithm (computing loss gradients with respect to neural network weights)\n",
    "        loss.backward()\n",
    "        \n",
    "        # doing SGD step and updating neural network weights\n",
    "        optimizer.step()\n",
    "        \n",
    "        epoch_loss += loss.item()\n",
    "        epoch_acc += acc.item()\n",
    "        \n",
    "        if batch == 0 or (batch+1) % 100 == 0:\n",
    "            print(f'Epoch {(epoch+1)+0:03} | Batch {(batch+1)+0:04}: | Loss: {epoch_loss/(batch+1):.5f} | Acc: {epoch_acc/(batch+1):.3f} ')\n",
    "    return epoch_loss, epoch_acc "
   ]
  },
  {
   "cell_type": "markdown",
   "id": "79423789",
   "metadata": {
    "papermill": {
     "duration": 0.050728,
     "end_time": "2022-05-09T10:41:59.483675",
     "exception": false,
     "start_time": "2022-05-09T10:41:59.432947",
     "status": "completed"
    },
    "tags": []
   },
   "source": [
    "# Main method for model training, calls train_batches method\n",
    "*This might need quite some time - up to 1-2 hours*"
   ]
  },
  {
   "cell_type": "code",
   "execution_count": 27,
   "id": "a55cf212",
   "metadata": {
    "execution": {
     "iopub.execute_input": "2022-05-09T10:41:59.589787Z",
     "iopub.status.busy": "2022-05-09T10:41:59.589268Z",
     "iopub.status.idle": "2022-05-09T12:00:39.161858Z",
     "shell.execute_reply": "2022-05-09T12:00:39.160954Z"
    },
    "papermill": {
     "duration": 4719.72955,
     "end_time": "2022-05-09T12:00:39.264759",
     "exception": false,
     "start_time": "2022-05-09T10:41:59.535209",
     "status": "completed"
    },
    "tags": []
   },
   "outputs": [
    {
     "name": "stdout",
     "output_type": "stream",
     "text": [
      "Epoch 001 | Batch 0001: | Loss: 0.70251 | Acc: 8.000 \n",
      "Epoch 001 | Batch 0100: | Loss: 0.39614 | Acc: 90.570 \n",
      "Epoch 001 | Batch 0200: | Loss: 0.30556 | Acc: 92.285 \n",
      "Epoch 001 | Batch 0300: | Loss: 0.25641 | Acc: 92.857 \n",
      "Epoch 001 | Batch 0400: | Loss: 0.22565 | Acc: 93.142 \n",
      "Confusion matrix, without normalization\n"
     ]
    },
    {
     "data": {
      "image/png": "[encoded data removed]",
      "text/plain": [
       "<Figure size 360x360 with 2 Axes>"
      ]
     },
     "metadata": {
      "needs_background": "light"
     },
     "output_type": "display_data"
    },
    {
     "name": "stdout",
     "output_type": "stream",
     "text": [
      "Epoch 001 | Batch 0500: | Loss: 0.20604 | Acc: 93.314 \n",
      "Epoch 001 | Batch 0600: | Loss: 0.19305 | Acc: 93.458 \n",
      "Epoch 001 | Batch 0700: | Loss: 0.18368 | Acc: 93.573 \n",
      "Epoch 001 | Batch 0800: | Loss: 0.17699 | Acc: 93.654 \n",
      "Epoch 001 | Batch 0900: | Loss: 0.17134 | Acc: 93.729 \n",
      "Confusion matrix, without normalization\n"
     ]
    },
    {
     "data": {
      "image/png": "[encoded data removed]",
      "text/plain": [
       "<Figure size 360x360 with 2 Axes>"
      ]
     },
     "metadata": {
      "needs_background": "light"
     },
     "output_type": "display_data"
    },
    {
     "name": "stdout",
     "output_type": "stream",
     "text": [
      "Epoch 001 | Batch 1000: | Loss: 0.16638 | Acc: 93.810 \n",
      "Epoch 001 | Batch 1100: | Loss: 0.16252 | Acc: 93.880 \n",
      "Epoch 001 | Batch 1200: | Loss: 0.15933 | Acc: 93.933 \n",
      "Epoch 001 | Batch 1300: | Loss: 0.15653 | Acc: 93.999 \n",
      "Epoch 001 | Batch 1400: | Loss: 0.15376 | Acc: 94.066 \n",
      "Confusion matrix, without normalization\n"
     ]
    },
    {
     "data": {
      "image/png": "[encoded data removed]",
      "text/plain": [
       "<Figure size 360x360 with 2 Axes>"
      ]
     },
     "metadata": {
      "needs_background": "light"
     },
     "output_type": "display_data"
    },
    {
     "name": "stdout",
     "output_type": "stream",
     "text": [
      "Epoch 001 | Batch 1500: | Loss: 0.15128 | Acc: 94.097 \n",
      "Epoch 001 | Batch 1600: | Loss: 0.14915 | Acc: 94.134 \n",
      "Epoch 001 | Batch 1700: | Loss: 0.14729 | Acc: 94.172 \n",
      "Epoch 001 | Batch 1800: | Loss: 0.14537 | Acc: 94.200 \n",
      "Epoch 001 | Batch 1900: | Loss: 0.14388 | Acc: 94.231 \n",
      "Confusion matrix, without normalization\n"
     ]
    },
    {
     "data": {
      "image/png": "[encoded data removed]",
      "text/plain": [
       "<Figure size 360x360 with 2 Axes>"
      ]
     },
     "metadata": {
      "needs_background": "light"
     },
     "output_type": "display_data"
    },
    {
     "name": "stdout",
     "output_type": "stream",
     "text": [
      "Epoch 001 | Batch 2000: | Loss: 0.14245 | Acc: 94.255 \n",
      "Epoch 001 | Batch 2100: | Loss: 0.14112 | Acc: 94.277 \n",
      "Epoch 001 | Batch 2200: | Loss: 0.13984 | Acc: 94.300 \n",
      "Epoch 001 | Batch 2300: | Loss: 0.13870 | Acc: 94.323 \n",
      "Epoch 001 | Batch 2400: | Loss: 0.13747 | Acc: 94.339 \n",
      "Confusion matrix, without normalization\n"
     ]
    },
    {
     "data": {
      "image/png": "[encoded data removed]",
      "text/plain": [
       "<Figure size 360x360 with 2 Axes>"
      ]
     },
     "metadata": {
      "needs_background": "light"
     },
     "output_type": "display_data"
    },
    {
     "name": "stdout",
     "output_type": "stream",
     "text": [
      "Epoch 001 | Batch 2500: | Loss: 0.13656 | Acc: 94.361 \n",
      "Epoch 001 | Batch 2600: | Loss: 0.13554 | Acc: 94.373 \n",
      "Epoch 001 | Batch 2700: | Loss: 0.13483 | Acc: 94.387 \n",
      "Epoch 001 | Batch 2800: | Loss: 0.13390 | Acc: 94.406 \n",
      "Epoch 001 | Batch 2900: | Loss: 0.13324 | Acc: 94.427 \n",
      "Confusion matrix, without normalization\n"
     ]
    },
    {
     "data": {
      "image/png": "[encoded data removed]",
      "text/plain": [
       "<Figure size 360x360 with 2 Axes>"
      ]
     },
     "metadata": {
      "needs_background": "light"
     },
     "output_type": "display_data"
    },
    {
     "name": "stdout",
     "output_type": "stream",
     "text": [
      "Epoch 001 | Batch 3000: | Loss: 0.13258 | Acc: 94.444 \n",
      "Epoch 001 | Batch 3100: | Loss: 0.13197 | Acc: 94.459 \n",
      "Epoch 001 | Batch 3200: | Loss: 0.13134 | Acc: 94.476 \n",
      "Epoch 001 | Batch 3300: | Loss: 0.13082 | Acc: 94.492 \n",
      "Epoch 001 | Batch 3400: | Loss: 0.13032 | Acc: 94.506 \n",
      "Confusion matrix, without normalization\n"
     ]
    },
    {
     "data": {
      "image/png": "[encoded data removed]",
      "text/plain": [
       "<Figure size 360x360 with 2 Axes>"
      ]
     },
     "metadata": {
      "needs_background": "light"
     },
     "output_type": "display_data"
    },
    {
     "name": "stdout",
     "output_type": "stream",
     "text": [
      "Epoch 001 | Batch 3500: | Loss: 0.12977 | Acc: 94.520 \n",
      "Epoch 001 | Batch 3600: | Loss: 0.12927 | Acc: 94.533 \n",
      "Epoch 001 | Batch 3700: | Loss: 0.12887 | Acc: 94.544 \n",
      "Epoch 001 | Batch 3800: | Loss: 0.12840 | Acc: 94.554 \n",
      "Epoch 001 | Batch 3900: | Loss: 0.12797 | Acc: 94.564 \n",
      "Confusion matrix, without normalization\n"
     ]
    },
    {
     "data": {
      "image/png": "[encoded data removed]",
      "text/plain": [
       "<Figure size 360x360 with 2 Axes>"
      ]
     },
     "metadata": {
      "needs_background": "light"
     },
     "output_type": "display_data"
    },
    {
     "name": "stdout",
     "output_type": "stream",
     "text": [
      "Epoch 001 | Batch 4000: | Loss: 0.12747 | Acc: 94.575 \n",
      "Epoch 001: | Epoch Loss: 0.12712 | Epoch Acc: 94.582\n",
      "Epoch 002 | Batch 0001: | Loss: 0.10385 | Acc: 95.000 \n",
      "Epoch 002 | Batch 0100: | Loss: 0.10678 | Acc: 94.930 \n",
      "Epoch 002 | Batch 0200: | Loss: 0.10754 | Acc: 94.965 \n",
      "Epoch 002 | Batch 0300: | Loss: 0.10823 | Acc: 94.977 \n",
      "Epoch 002 | Batch 0400: | Loss: 0.10760 | Acc: 94.965 \n",
      "Confusion matrix, without normalization\n"
     ]
    },
    {
     "data": {
      "image/png": "[encoded data removed]",
      "text/plain": [
       "<Figure size 360x360 with 2 Axes>"
      ]
     },
     "metadata": {
      "needs_background": "light"
     },
     "output_type": "display_data"
    },
    {
     "name": "stdout",
     "output_type": "stream",
     "text": [
      "Epoch 002 | Batch 0500: | Loss: 0.10683 | Acc: 94.962 \n",
      "Epoch 002 | Batch 0600: | Loss: 0.10714 | Acc: 94.968 \n",
      "Epoch 002 | Batch 0700: | Loss: 0.10762 | Acc: 94.973 \n",
      "Epoch 002 | Batch 0800: | Loss: 0.10817 | Acc: 94.976 \n",
      "Epoch 002 | Batch 0900: | Loss: 0.10832 | Acc: 94.979 \n",
      "Confusion matrix, without normalization\n"
     ]
    },
    {
     "data": {
      "image/png": "[encoded data removed]",
      "text/plain": [
       "<Figure size 360x360 with 2 Axes>"
      ]
     },
     "metadata": {
      "needs_background": "light"
     },
     "output_type": "display_data"
    },
    {
     "name": "stdout",
     "output_type": "stream",
     "text": [
      "Epoch 002 | Batch 1000: | Loss: 0.10811 | Acc: 94.979 \n",
      "Epoch 002 | Batch 1100: | Loss: 0.10819 | Acc: 94.980 \n",
      "Epoch 002 | Batch 1200: | Loss: 0.10839 | Acc: 94.978 \n",
      "Epoch 002 | Batch 1300: | Loss: 0.10844 | Acc: 94.976 \n",
      "Epoch 002 | Batch 1400: | Loss: 0.10817 | Acc: 94.978 \n",
      "Confusion matrix, without normalization\n"
     ]
    },
    {
     "data": {
      "image/png": "[encoded data removed]",
      "text/plain": [
       "<Figure size 360x360 with 2 Axes>"
      ]
     },
     "metadata": {
      "needs_background": "light"
     },
     "output_type": "display_data"
    },
    {
     "name": "stdout",
     "output_type": "stream",
     "text": [
      "Epoch 002 | Batch 1500: | Loss: 0.10798 | Acc: 94.979 \n",
      "Epoch 002 | Batch 1600: | Loss: 0.10783 | Acc: 94.979 \n",
      "Epoch 002 | Batch 1700: | Loss: 0.10784 | Acc: 94.980 \n",
      "Epoch 002 | Batch 1800: | Loss: 0.10751 | Acc: 94.981 \n",
      "Epoch 002 | Batch 1900: | Loss: 0.10741 | Acc: 94.982 \n",
      "Confusion matrix, without normalization\n"
     ]
    },
    {
     "data": {
      "image/png": "[encoded data removed]",
      "text/plain": [
       "<Figure size 360x360 with 2 Axes>"
      ]
     },
     "metadata": {
      "needs_background": "light"
     },
     "output_type": "display_data"
    },
    {
     "name": "stdout",
     "output_type": "stream",
     "text": [
      "Epoch 002 | Batch 2000: | Loss: 0.10739 | Acc: 94.983 \n",
      "Epoch 002 | Batch 2100: | Loss: 0.10725 | Acc: 94.983 \n",
      "Epoch 002 | Batch 2200: | Loss: 0.10707 | Acc: 94.984 \n",
      "Epoch 002 | Batch 2300: | Loss: 0.10698 | Acc: 94.984 \n",
      "Epoch 002 | Batch 2400: | Loss: 0.10674 | Acc: 94.983 \n",
      "Confusion matrix, without normalization\n"
     ]
    },
    {
     "data": {
      "image/png": "[encoded data removed]",
      "text/plain": [
       "<Figure size 360x360 with 2 Axes>"
      ]
     },
     "metadata": {
      "needs_background": "light"
     },
     "output_type": "display_data"
    },
    {
     "name": "stdout",
     "output_type": "stream",
     "text": [
      "Epoch 002 | Batch 2500: | Loss: 0.10673 | Acc: 94.984 \n",
      "Epoch 002 | Batch 2600: | Loss: 0.10654 | Acc: 94.983 \n",
      "Epoch 002 | Batch 2700: | Loss: 0.10661 | Acc: 94.983 \n",
      "Epoch 002 | Batch 2800: | Loss: 0.10639 | Acc: 94.984 \n",
      "Epoch 002 | Batch 2900: | Loss: 0.10641 | Acc: 94.984 \n",
      "Confusion matrix, without normalization\n"
     ]
    },
    {
     "data": {
      "image/png": "[encoded data removed]",
      "text/plain": [
       "<Figure size 360x360 with 2 Axes>"
      ]
     },
     "metadata": {
      "needs_background": "light"
     },
     "output_type": "display_data"
    },
    {
     "name": "stdout",
     "output_type": "stream",
     "text": [
      "Epoch 002 | Batch 3000: | Loss: 0.10640 | Acc: 94.985 \n",
      "Epoch 002 | Batch 3100: | Loss: 0.10641 | Acc: 94.985 \n",
      "Epoch 002 | Batch 3200: | Loss: 0.10634 | Acc: 94.986 \n",
      "Epoch 002 | Batch 3300: | Loss: 0.10634 | Acc: 94.986 \n",
      "Epoch 002 | Batch 3400: | Loss: 0.10636 | Acc: 94.987 \n",
      "Confusion matrix, without normalization\n"
     ]
    },
    {
     "data": {
      "image/png": "[encoded data removed]",
      "text/plain": [
       "<Figure size 360x360 with 2 Axes>"
      ]
     },
     "metadata": {
      "needs_background": "light"
     },
     "output_type": "display_data"
    },
    {
     "name": "stdout",
     "output_type": "stream",
     "text": [
      "Epoch 002 | Batch 3500: | Loss: 0.10629 | Acc: 94.987 \n",
      "Epoch 002 | Batch 3600: | Loss: 0.10626 | Acc: 94.987 \n",
      "Epoch 002 | Batch 3700: | Loss: 0.10630 | Acc: 94.988 \n",
      "Epoch 002 | Batch 3800: | Loss: 0.10625 | Acc: 94.988 \n",
      "Epoch 002 | Batch 3900: | Loss: 0.10620 | Acc: 94.989 \n",
      "Confusion matrix, without normalization\n"
     ]
    },
    {
     "data": {
      "image/png": "[encoded data removed]",
      "text/plain": [
       "<Figure size 360x360 with 2 Axes>"
      ]
     },
     "metadata": {
      "needs_background": "light"
     },
     "output_type": "display_data"
    },
    {
     "name": "stdout",
     "output_type": "stream",
     "text": [
      "Epoch 002 | Batch 4000: | Loss: 0.10610 | Acc: 94.990 \n",
      "Epoch 002: | Epoch Loss: 0.10606 | Epoch Acc: 94.990\n"
     ]
    }
   ],
   "source": [
    "def train_loop():\n",
    "    for epoch in range(EPOCHS):\n",
    "\n",
    "        epoch_loss, epoch_acc = train_batches(epoch)\n",
    "\n",
    "        print(f'Epoch {(epoch+1)+0:03}: | Epoch Loss: {epoch_loss/BATCHES:.5f} | Epoch Acc: {epoch_acc/BATCHES:.3f}')\n",
    "        \n",
    "train_loop()        "
   ]
  },
  {
   "cell_type": "code",
   "execution_count": 28,
   "id": "e390d69e",
   "metadata": {
    "execution": {
     "iopub.execute_input": "2022-05-09T12:00:39.480234Z",
     "iopub.status.busy": "2022-05-09T12:00:39.479869Z",
     "iopub.status.idle": "2022-05-09T12:00:39.486921Z",
     "shell.execute_reply": "2022-05-09T12:00:39.486008Z"
    },
    "papermill": {
     "duration": 0.122601,
     "end_time": "2022-05-09T12:00:39.489487",
     "exception": false,
     "start_time": "2022-05-09T12:00:39.366886",
     "status": "completed"
    },
    "tags": []
   },
   "outputs": [],
   "source": [
    "test_sentences, test_targets = test['question_text'], []\n",
    "TEST_BATCHES = (len(test_sentences)+BATCH_SIZE-1)//BATCH_SIZE"
   ]
  },
  {
   "cell_type": "markdown",
   "id": "899a3727",
   "metadata": {
    "papermill": {
     "duration": 0.107702,
     "end_time": "2022-05-09T12:00:39.711447",
     "exception": false,
     "start_time": "2022-05-09T12:00:39.603745",
     "status": "completed"
    },
    "tags": []
   },
   "source": [
    "# Lets work our model on test data "
   ]
  },
  {
   "cell_type": "code",
   "execution_count": 29,
   "id": "ef611cc7",
   "metadata": {
    "execution": {
     "iopub.execute_input": "2022-05-09T12:00:39.920037Z",
     "iopub.status.busy": "2022-05-09T12:00:39.919703Z",
     "iopub.status.idle": "2022-05-09T12:09:53.013487Z",
     "shell.execute_reply": "2022-05-09T12:09:53.012703Z"
    },
    "papermill": {
     "duration": 553.201201,
     "end_time": "2022-05-09T12:09:53.016225",
     "exception": false,
     "start_time": "2022-05-09T12:00:39.815024",
     "status": "completed"
    },
    "tags": []
   },
   "outputs": [
    {
     "name": "stdout",
     "output_type": "stream",
     "text": [
      "Predicting...\n",
      "Predicting...\n",
      "Predicting...\n",
      "Predicting...\n",
      "Predicting...\n",
      "Predicting...\n",
      "Predicting...\n",
      "Predicting...\n",
      "Predicting...\n",
      "Predicting...\n",
      "Predicting...\n",
      "Predicting...\n",
      "Predicting...\n",
      "Predicting...\n"
     ]
    }
   ],
   "source": [
    "model.eval()\n",
    "with torch.no_grad():\n",
    "    for b in range(TEST_BATCHES):\n",
    "      \n",
    "        X_batch = torch.FloatTensor(configure_word2vecs(test_sentences[BATCH_SIZE*b:BATCH_SIZE*(b+1)], word2vecs))\n",
    "        \n",
    "        trg = torch.round(torch.sigmoid(model(X_batch))).cpu().numpy().squeeze()\n",
    "        test_targets.extend(trg)\n",
    "        \n",
    "        if (b+1) % 100 == 0: print('Predicting...')"
   ]
  },
  {
   "cell_type": "markdown",
   "id": "48d98853",
   "metadata": {
    "papermill": {
     "duration": 0.106911,
     "end_time": "2022-05-09T12:09:53.233941",
     "exception": false,
     "start_time": "2022-05-09T12:09:53.127030",
     "status": "completed"
    },
    "tags": []
   },
   "source": [
    "# Now write predicted data into submission.csv"
   ]
  },
  {
   "cell_type": "code",
   "execution_count": 30,
   "id": "b73ca679",
   "metadata": {
    "execution": {
     "iopub.execute_input": "2022-05-09T12:09:53.452068Z",
     "iopub.status.busy": "2022-05-09T12:09:53.451517Z",
     "iopub.status.idle": "2022-05-09T12:09:54.468436Z",
     "shell.execute_reply": "2022-05-09T12:09:54.467472Z"
    },
    "papermill": {
     "duration": 1.128567,
     "end_time": "2022-05-09T12:09:54.471697",
     "exception": false,
     "start_time": "2022-05-09T12:09:53.343130",
     "status": "completed"
    },
    "tags": []
   },
   "outputs": [
    {
     "name": "stderr",
     "output_type": "stream",
     "text": [
      "/opt/conda/lib/python3.7/site-packages/ipykernel_launcher.py:1: DeprecationWarning: `np.int` is a deprecated alias for the builtin `int`. To silence this warning, use `int` by itself. Doing this will not modify any behavior and is safe. When replacing `np.int`, you may wish to use e.g. `np.int64` or `np.int32` to specify the precision. If you wish to review your current use, check the release note link for additional information.\n",
      "Deprecated in NumPy 1.20; for more details and guidance: https://numpy.org/devdocs/release/1.20.0-notes.html#deprecations\n",
      "  \"\"\"Entry point for launching an IPython kernel.\n"
     ]
    }
   ],
   "source": [
    "test_targets = (np.array(test_targets) >= 0.5).astype(np.int)\n",
    "result = pd.DataFrame({\"qid\": test['qid'], \"prediction\": test_targets})\n",
    "result.to_csv(\"submission.csv\", index=False)"
   ]
  },
  {
   "cell_type": "markdown",
   "id": "6f3d5993",
   "metadata": {
    "papermill": {
     "duration": 0.106534,
     "end_time": "2022-05-09T12:09:54.695810",
     "exception": false,
     "start_time": "2022-05-09T12:09:54.589276",
     "status": "completed"
    },
    "tags": []
   },
   "source": [
    "# Here we will see the distribution of 1s and 0s of predicted values"
   ]
  },
  {
   "cell_type": "code",
   "execution_count": 31,
   "id": "4c7fb449",
   "metadata": {
    "execution": {
     "iopub.execute_input": "2022-05-09T12:09:54.910979Z",
     "iopub.status.busy": "2022-05-09T12:09:54.910416Z",
     "iopub.status.idle": "2022-05-09T12:09:54.920182Z",
     "shell.execute_reply": "2022-05-09T12:09:54.919519Z"
    },
    "papermill": {
     "duration": 0.119956,
     "end_time": "2022-05-09T12:09:54.922223",
     "exception": false,
     "start_time": "2022-05-09T12:09:54.802267",
     "status": "completed"
    },
    "tags": []
   },
   "outputs": [
    {
     "data": {
      "text/plain": [
       "0    362095\n",
       "1     13711\n",
       "Name: prediction, dtype: int64"
      ]
     },
     "execution_count": 31,
     "metadata": {},
     "output_type": "execute_result"
    }
   ],
   "source": [
    "result.prediction.value_counts()"
   ]
  },
  {
   "cell_type": "markdown",
   "id": "1ffd95ef",
   "metadata": {
    "papermill": {
     "duration": 0.108082,
     "end_time": "2022-05-09T12:09:55.138799",
     "exception": false,
     "start_time": "2022-05-09T12:09:55.030717",
     "status": "completed"
    },
    "tags": []
   },
   "source": [
    "# Lets see how our model predicted answers on test set"
   ]
  },
  {
   "cell_type": "code",
   "execution_count": 32,
   "id": "8b450e87",
   "metadata": {
    "execution": {
     "iopub.execute_input": "2022-05-09T12:09:55.356688Z",
     "iopub.status.busy": "2022-05-09T12:09:55.356223Z",
     "iopub.status.idle": "2022-05-09T12:09:55.363636Z",
     "shell.execute_reply": "2022-05-09T12:09:55.362544Z"
    },
    "papermill": {
     "duration": 0.119571,
     "end_time": "2022-05-09T12:09:55.365884",
     "exception": false,
     "start_time": "2022-05-09T12:09:55.246313",
     "status": "completed"
    },
    "tags": []
   },
   "outputs": [
    {
     "name": "stdout",
     "output_type": "stream",
     "text": [
      "Below are 5 sentences that are predicted to be 'good': \n",
      "\n",
      "What is it really like to be a nurse practitioner?\n",
      "Is education really making good people nowadays?\n",
      "How do you train a pigeon to send messages?\n",
      "What is the currency in Langkawi?\n",
      "What is the future for Pandora, can the business reduce its debt?\n"
     ]
    }
   ],
   "source": [
    "print(\"Below are 5 sentences that are predicted to be 'good': \\n\")\n",
    "counter = 0\n",
    "for i, sentence in enumerate(test_sentences):\n",
    "        sent_len = len(sentence.split(' '))\n",
    "        if AVG_MIN_LENGTH <= sent_len and sent_len <= AVG_MAX_LENGTH:\n",
    "            if test_targets[i] == 0:\n",
    "                counter += 1\n",
    "                print(sentence)\n",
    "                if counter >= 5: break"
   ]
  },
  {
   "cell_type": "code",
   "execution_count": 33,
   "id": "2fa7ab56",
   "metadata": {
    "execution": {
     "iopub.execute_input": "2022-05-09T12:09:55.585767Z",
     "iopub.status.busy": "2022-05-09T12:09:55.585439Z",
     "iopub.status.idle": "2022-05-09T12:09:55.594583Z",
     "shell.execute_reply": "2022-05-09T12:09:55.593259Z"
    },
    "papermill": {
     "duration": 0.120652,
     "end_time": "2022-05-09T12:09:55.596838",
     "exception": false,
     "start_time": "2022-05-09T12:09:55.476186",
     "status": "completed"
    },
    "tags": []
   },
   "outputs": [
    {
     "name": "stdout",
     "output_type": "stream",
     "text": [
      "Below are 5 sentences that are predicted to be 'bad': \n",
      "\n",
      "Why most Telugu and Marathi Muslims speak Urdu and are ashamed of their native languages?\n",
      "Why do Bengali and Kolkata people dominate Hindi language speaking people from Delhi, Mumbai and other parts of India?\n",
      "Why do Indian girls look for only NRI boys for marriage?\n",
      "Why do Asian people hate white and black people? (READ COMMENT)\n",
      "Should a child of incest be told the truth?\n"
     ]
    }
   ],
   "source": [
    "print(\"Below are 5 sentences that are predicted to be 'bad': \\n\")\n",
    "counter = 0\n",
    "for i, sentence in enumerate(test_sentences):\n",
    "        sent_len = len(sentence.split(' '))\n",
    "        if AVG_MIN_LENGTH <= sent_len and sent_len <= AVG_MAX_LENGTH:\n",
    "            if test_targets[i] == 1:\n",
    "                counter += 1\n",
    "                print(sentence)\n",
    "                if counter >= 5: break"
   ]
  }
 ],
 "metadata": {
  "kernelspec": {
   "display_name": "Python 3",
   "language": "python",
   "name": "python3"
  },
  "language_info": {
   "codemirror_mode": {
    "name": "ipython",
    "version": 3
   },
   "file_extension": ".py",
   "mimetype": "text/x-python",
   "name": "python",
   "nbconvert_exporter": "python",
   "pygments_lexer": "ipython3",
   "version": "3.7.12"
  },
  "papermill": {
   "default_parameters": {},
   "duration": 5661.432301,
   "end_time": "2022-05-09T12:09:58.542207",
   "environment_variables": {},
   "exception": null,
   "input_path": "__notebook__.ipynb",
   "output_path": "__notebook__.ipynb",
   "parameters": {},
   "start_time": "2022-05-09T10:35:37.109906",
   "version": "2.3.4"
  }
 },
 "nbformat": 4,
 "nbformat_minor": 5
}
